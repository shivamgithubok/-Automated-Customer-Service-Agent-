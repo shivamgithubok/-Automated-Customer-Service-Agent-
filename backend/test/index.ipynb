{
 "cells": [
  {
   "cell_type": "markdown",
   "id": "59a1deb5",
   "metadata": {},
   "source": [
    "# WORKFLOW Using Langgraph"
   ]
  },
  {
   "cell_type": "code",
   "execution_count": 1,
   "id": "a1e20da6",
   "metadata": {},
   "outputs": [
    {
     "data": {
      "text/plain": [
       "True"
      ]
     },
     "execution_count": 1,
     "metadata": {},
     "output_type": "execute_result"
    }
   ],
   "source": [
    "import pandas as pd \n",
    "import os\n",
    "from langgraph.graph import StateGraph, START, END\n",
    "from langchain_google_genai import ChatGoogleGenerativeAI\n",
    "from dotenv import load_dotenv\n",
    "from langchain_core.messages import HumanMessage, SystemMessage\n",
    "from typing import Annotated ,Literal\n",
    "from langgraph.graph.message import add_messages\n",
    "from typing_extensions import TypedDict\n",
    "\n",
    "load_dotenv()"
   ]
  },
  {
   "cell_type": "code",
   "execution_count": 2,
   "id": "716b42f0",
   "metadata": {},
   "outputs": [],
   "source": [
    "api_key = os.getenv(\"GOOGLE_API_KEY\")"
   ]
  },
  {
   "cell_type": "code",
   "execution_count": 3,
   "id": "16d77eee",
   "metadata": {},
   "outputs": [],
   "source": [
    "llm = ChatGoogleGenerativeAI(\n",
    "    model=\"gemini-1.5-flash\",\n",
    "    api_key=api_key\n",
    ")"
   ]
  },
  {
   "cell_type": "code",
   "execution_count": null,
   "id": "0d85d1d0",
   "metadata": {},
   "outputs": [],
   "source": [
    "# This is a fixed and improved version of your agent with a feedback loop.\n",
    "\n",
    "from typing import TypedDict, List\n",
    "from langgraph.graph import StateGraph, END\n",
    "\n",
    "# Define the state of the graph.\n",
    "# 'feedback' is a new field to store the result of the human evaluation.\n",
    "class QueryState(TypedDict):\n",
    "    \"\"\"Represents the state of our agent's workflow with feedback.\"\"\"\n",
    "    query: str\n",
    "    documents: List[str]\n",
    "    answer: str\n",
    "    feedback: str # New field to store feedback (\"satisfied\" or \"not_satisfied\")\n",
    "\n",
    "# Define the nodes (functions) for the graph.\n",
    "\n",
    "def document_rag(state: QueryState) -> QueryState:\n",
    "    \"\"\"Retrieves documents based on the query. \n",
    "    \n",
    "    In a real system, this could change the retrieval strategy or search a new data source\n",
    "    if the previous attempt failed. For this example, we'll simulate returning different docs\n",
    "    on subsequent loops.\n",
    "    \"\"\"\n",
    "    print(\"Executing: Document Retrieval...\")\n",
    "    \n",
    "    # Simple logic to simulate getting different documents on a retry.\n",
    "    if \"feedback\" in state and state[\"feedback\"] == \"not_satisfied\":\n",
    "        print(\"Retrying search with a different strategy...\")\n",
    "        retrieved_docs = [\"Document chunk about customer support channels.\",\n",
    "                          \"Document chunk about the escalation process.\"]\n",
    "    else:\n",
    "        retrieved_docs = [\"Document chunk about the company's return policy.\",\n",
    "                          \"Document chunk detailing product warranty information.\"]\n",
    "                          \n",
    "    return {\"documents\": retrieved_docs}\n",
    "\n",
    "def relevant_answer(state: QueryState) -> QueryState:\n",
    "    \"\"\"Generates an answer using the retrieved documents.\"\"\"\n",
    "    print(\"Executing: Generating Answer...\")\n",
    "    \n",
    "    docs = state.get(\"documents\", [])\n",
    "    query = state.get(\"query\", \"\")\n",
    "    \n",
    "    # Simple placeholder for the LLM's response\n",
    "    # In a real app, this would use an LLM with the retrieved context.\n",
    "    if docs:\n",
    "      answer = f\"Based on the provided documents: '{docs[0]}', I can answer your query: '{query}'.\"\n",
    "    else:\n",
    "      answer = \"I could not find a relevant document to answer your query.\"\n",
    "    return {\"answer\": answer}\n",
    "\n",
    "def human_evalution(state: QueryState) -> QueryState:\n",
    "    \"\"\"Simulates a human evaluation node and decides the next step.\n",
    "    \n",
    "    This function acts as a conditional check. In a real application, this would\n",
    "    be a user action (e.g., clicking a \"thumbs up\" or \"thumbs down\" button).\n",
    "    \"\"\"\n",
    "    print(\"Executing: Human Evaluation...\")\n",
    "    print(f\"Agent's Answer: {state.get('answer')}\")\n",
    "    \n",
    "    # Simulate a user's feedback. For the first run, let's say the user is not satisfied.\n",
    "    # On a subsequent run, we can pretend they are satisfied to demonstrate the loop ending.\n",
    "    if state.get(\"feedback\") == \"not_satisfied\":\n",
    "        print(\"Simulated feedback: User is now satisfied.\")\n",
    "        feedback = \"satisfied\"\n",
    "    else:\n",
    "        print(\"Simulated feedback: User is not satisfied.\")\n",
    "        feedback = \"not_satisfied\"\n",
    "        \n",
    "    return {\"feedback\": feedback}\n",
    "\n",
    "# --- Build the LangGraph workflow ---\n",
    "\n",
    "# Define a function to act as our conditional router.\n",
    "# It returns the name of the next node based on the feedback.\n",
    "def check_feedback(state: QueryState) -> str:\n",
    "    \"\"\"Decides whether to continue the loop or end.\"\"\"\n",
    "    if state.get(\"feedback\") == \"satisfied\":\n",
    "        print(\"Decision: Feedback is positive. Ending the conversation.\")\n",
    "        return \"end\"\n",
    "    else:\n",
    "        print(\"Decision: Feedback is negative. Looping back to document retrieval.\")\n",
    "        return \"continue\"\n",
    "\n",
    "# Build the LangGraph workflow.\n",
    "graph = StateGraph(QueryState)\n",
    "\n",
    "# Add the nodes to the graph.\n",
    "graph.add_node(\"Document_rag\", document_rag)\n",
    "graph.add_node(\"relevent_ans\", relevant_answer)\n",
    "graph.add_node(\"human_evalution\", human_evalution)\n",
    "\n",
    "\n",
    "graph.set_entry_point(\"Document_rag\")\n",
    "\n",
    "\n",
    "graph.add_edge(\"Document_rag\", \"relevent_ans\")\n",
    "graph.add_edge(\"relevent_ans\", \"human_evalution\")\n",
    "\n",
    "\n",
    "graph.add_conditional_edges(\n",
    "    \"human_evalution\",\n",
    "    check_feedback,\n",
    "    {\n",
    "        \"continue\": \"Document_rag\", \n",
    "        \"end\": END,                \n",
    "    }\n",
    ")\n",
    "\n",
    "app = graph.compile()\n",
    "\n",
    "\n"
   ]
  },
  {
   "cell_type": "code",
   "execution_count": 10,
   "id": "0ee64884",
   "metadata": {},
   "outputs": [
    {
     "name": "stdout",
     "output_type": "stream",
     "text": [
      "\n",
      "--- Starting the agent with feedback loop ---\n",
      "\n",
      "--- Iteration 1 ---\n",
      "Executing: Document Retrieval...\n",
      "Executing: Generating Answer...\n",
      "Executing: Human Evaluation...\n",
      "Agent's Answer: Based on the provided documents: 'Document chunk about the company's return policy.', I can answer your query: 'Tell me about the return policy.'.\n",
      "Simulated feedback: User is not satisfied.\n",
      "Decision: Feedback is negative. Looping back to document retrieval.\n",
      "Executing: Document Retrieval...\n",
      "Retrying search with a different strategy...\n",
      "Executing: Generating Answer...\n",
      "Executing: Human Evaluation...\n",
      "Agent's Answer: Based on the provided documents: 'Document chunk about customer support channels.', I can answer your query: 'Tell me about the return policy.'.\n",
      "Simulated feedback: User is now satisfied.\n",
      "Decision: Feedback is positive. Ending the conversation.\n",
      "\n",
      "Final State: {'query': 'Tell me about the return policy.', 'documents': ['Document chunk about customer support channels.', 'Document chunk about the escalation process.'], 'answer': \"Based on the provided documents: 'Document chunk about customer support channels.', I can answer your query: 'Tell me about the return policy.'.\", 'feedback': 'satisfied'}\n"
     ]
    }
   ],
   "source": [
    "# --- Example Usage ---\n",
    "# The agent will now run in a loop until the simulated feedback is \"satisfied\".\n",
    "initial_state = {\"query\": \"Tell me about the return policy.\"}\n",
    "print(\"\\n--- Starting the agent with feedback loop ---\")\n",
    "\n",
    "# We can run it once or invoke it in a loop to see the behavior.\n",
    "# Here, we'll use a for loop to demonstrate the feedback mechanism.\n",
    "current_state = initial_state\n",
    "for i in range(3): # Run for a max of 3 iterations\n",
    "    print(f\"\\n--- Iteration {i+1} ---\")\n",
    "    current_state = app.invoke(current_state)\n",
    "    if current_state.get(\"feedback\") == \"satisfied\":\n",
    "        break\n",
    "\n",
    "print(\"\\nFinal State:\", current_state)"
   ]
  },
  {
   "cell_type": "code",
   "execution_count": 9,
   "id": "20787ddb",
   "metadata": {},
   "outputs": [
    {
     "data": {
      "image/png": "[encoded data removed]",
      "text/plain": [
       "<langgraph.graph.state.CompiledStateGraph object at 0x0000024BB2AF6E90>"
      ]
     },
     "execution_count": 9,
     "metadata": {},
     "output_type": "execute_result"
    }
   ],
   "source": [
    "app"
   ]
  },
  {
   "cell_type": "code",
   "execution_count": 4,
   "id": "d38f2bd0",
   "metadata": {},
   "outputs": [
    {
     "data": {
      "text/plain": [
       "AIMessage(content='I am doing well, thank you for asking!  How are you today?', additional_kwargs={}, response_metadata={'prompt_feedback': {'block_reason': 0, 'safety_ratings': []}, 'finish_reason': 'STOP', 'model_name': 'gemini-1.5-flash', 'safety_ratings': []}, id='run--d326fee9-2031-4d50-8149-85f15c565ab2-0', usage_metadata={'input_tokens': 6, 'output_tokens': 17, 'total_tokens': 23, 'input_token_details': {'cache_read': 0}})"
      ]
     },
     "execution_count": 4,
     "metadata": {},
     "output_type": "execute_result"
    }
   ],
   "source": [
    "llm.invoke(\"Hello, how are you?\")"
   ]
  },
  {
   "cell_type": "code",
   "execution_count": 5,
   "id": "a64f2d29",
   "metadata": {},
   "outputs": [],
   "source": [
    "from langchain_core.messages import HumanMessage, SystemMessage\n",
    "from typing import Annotated ,Literal\n",
    "from langgraph.graph.message import add_messages\n",
    "from typing_extensions import TypedDict"
   ]
  },
  {
   "cell_type": "code",
   "execution_count": 6,
   "id": "abaa139d",
   "metadata": {},
   "outputs": [],
   "source": [
    "class State(TypedDict):\n",
    "    message: Annotated[list, add_messages]"
   ]
  },
  {
   "cell_type": "code",
   "execution_count": 7,
   "id": "62b4c43a",
   "metadata": {},
   "outputs": [],
   "source": [
    "graph = StateGraph(State)"
   ]
  },
  {
   "cell_type": "code",
   "execution_count": 8,
   "id": "5e193d1e",
   "metadata": {},
   "outputs": [],
   "source": [
    "def chatbot(state: State):\n",
    "    return {\"message\": [llm.invoke(state[\"message\"])]}"
   ]
  },
  {
   "cell_type": "code",
   "execution_count": 9,
   "id": "7ccdaf0b",
   "metadata": {},
   "outputs": [
    {
     "data": {
      "text/plain": [
       "<langgraph.graph.state.StateGraph at 0x1c3a50896a0>"
      ]
     },
     "execution_count": 9,
     "metadata": {},
     "output_type": "execute_result"
    }
   ],
   "source": [
    "graph.add_node(\"chatbot\",chatbot)"
   ]
  },
  {
   "cell_type": "code",
   "execution_count": 10,
   "id": "03124041",
   "metadata": {},
   "outputs": [
    {
     "data": {
      "text/plain": [
       "<langgraph.graph.state.StateGraph at 0x1c3a50896a0>"
      ]
     },
     "execution_count": 10,
     "metadata": {},
     "output_type": "execute_result"
    }
   ],
   "source": [
    "graph.add_edge(START,\"chatbot\")\n",
    "graph.add_edge(\"chatbot\",END)"
   ]
  },
  {
   "cell_type": "code",
   "execution_count": 11,
   "id": "0f08ef3d",
   "metadata": {},
   "outputs": [
    {
     "data": {
      "image/png": "[encoded data removed]",
      "text/plain": [
       "<langgraph.graph.state.CompiledStateGraph object at 0x000001C3A5089550>"
      ]
     },
     "execution_count": 11,
     "metadata": {},
     "output_type": "execute_result"
    }
   ],
   "source": [
    "app = graph.compile()\n",
    "app"
   ]
  },
  {
   "cell_type": "code",
   "execution_count": 14,
   "id": "c6092988",
   "metadata": {},
   "outputs": [
    {
     "name": "stdout",
     "output_type": "stream",
     "text": [
      "I'm doing well, thank you for asking! How are you today?\n"
     ]
    }
   ],
   "source": [
    "from langchain_core.messages import HumanMessage\n",
    "\n",
    "output = app.invoke({\n",
    "    \"message\": [HumanMessage(content=\"Hello, how are you?\")]\n",
    "})\n",
    "\n",
    "print(output[\"message\"][-1].content)\n"
   ]
  },
  {
   "cell_type": "code",
   "execution_count": 19,
   "metadata": {},
   "outputs": [
    {
     "data": {
      "text/plain": [
       "{'message': [HumanMessage(content='Hello, how are you?', additional_kwargs={}, response_metadata={}, id='e1039a17-03a6-4bd2-b301-fc550a6f275d'),\n",
       "  AIMessage(content=\"I'm doing well, thank you for asking! How are you today?\", additional_kwargs={}, response_metadata={'prompt_feedback': {'block_reason': 0, 'safety_ratings': []}, 'finish_reason': 'STOP', 'model_name': 'gemini-1.5-flash', 'safety_ratings': []}, id='run--85fef8d8-207a-4cfc-92bc-d18ae72587b6-0', usage_metadata={'input_tokens': 6, 'output_tokens': 17, 'total_tokens': 23, 'input_token_details': {'cache_read': 0}})]}"
      ]
     },
     "execution_count": 19,
     "metadata": {},
     "output_type": "execute_result"
    }
   ],
   "source": [
    "output"
   ]
  },
  {
   "cell_type": "code",
   "execution_count": 17,
   "id": "2343fc48",
   "metadata": {},
   "outputs": [],
   "source": [
    "# def stream_graph_updates(user_input: str):\n",
    "#     for event in app.invoke({\"messages\": [{\"role\": \"user\", \"content\": user_input}]}):\n",
    "#         for value in event.values():\n",
    "#             print(\"Assistant:\", value[\"messages\"][-1].content)\n",
    "\n",
    "def stream_graph_updates(user_input: str):\n",
    "    for event in app.invoke({\"message\": [HumanMessage(content=user_input)]}):\n",
    "        for value in event.values():\n",
    "            print(\"Assistant:\", value[\"messages\"][-1].content)\n",
    "\n"
   ]
  },
  {
   "cell_type": "code",
   "execution_count": 18,
   "id": "90291e66",
   "metadata": {},
   "outputs": [
    {
     "name": "stdout",
     "output_type": "stream",
     "text": [
      "User: What do you know about LangGraph?\n"
     ]
    },
    {
     "ename": "AttributeError",
     "evalue": "'str' object has no attribute 'values'",
     "output_type": "error",
     "traceback": [
      "\u001b[31m---------------------------------------------------------------------------\u001b[39m",
      "\u001b[31mAttributeError\u001b[39m                            Traceback (most recent call last)",
      "\u001b[36mCell\u001b[39m\u001b[36m \u001b[39m\u001b[32mIn[18]\u001b[39m\u001b[32m, line 7\u001b[39m\n\u001b[32m      6\u001b[39m         \u001b[38;5;28;01mbreak\u001b[39;00m\n\u001b[32m----> \u001b[39m\u001b[32m7\u001b[39m     \u001b[43mstream_graph_updates\u001b[49m\u001b[43m(\u001b[49m\u001b[43muser_input\u001b[49m\u001b[43m)\u001b[49m\n\u001b[32m      8\u001b[39m \u001b[38;5;28;01mexcept\u001b[39;00m:\n\u001b[32m      9\u001b[39m     \u001b[38;5;66;03m# fallback if input() is not available\u001b[39;00m\n",
      "\u001b[36mCell\u001b[39m\u001b[36m \u001b[39m\u001b[32mIn[17]\u001b[39m\u001b[32m, line 8\u001b[39m, in \u001b[36mstream_graph_updates\u001b[39m\u001b[34m(user_input)\u001b[39m\n\u001b[32m      7\u001b[39m \u001b[38;5;28;01mfor\u001b[39;00m event \u001b[38;5;129;01min\u001b[39;00m app.invoke({\u001b[33m\"\u001b[39m\u001b[33mmessage\u001b[39m\u001b[33m\"\u001b[39m: [HumanMessage(content=user_input)]}):\n\u001b[32m----> \u001b[39m\u001b[32m8\u001b[39m     \u001b[38;5;28;01mfor\u001b[39;00m value \u001b[38;5;129;01min\u001b[39;00m \u001b[43mevent\u001b[49m\u001b[43m.\u001b[49m\u001b[43mvalues\u001b[49m():\n\u001b[32m      9\u001b[39m         \u001b[38;5;28mprint\u001b[39m(\u001b[33m\"\u001b[39m\u001b[33mAssistant:\u001b[39m\u001b[33m\"\u001b[39m, value[\u001b[33m\"\u001b[39m\u001b[33mmessages\u001b[39m\u001b[33m\"\u001b[39m][-\u001b[32m1\u001b[39m].content)\n",
      "\u001b[31mAttributeError\u001b[39m: 'str' object has no attribute 'values'",
      "\nDuring handling of the above exception, another exception occurred:\n",
      "\u001b[31mAttributeError\u001b[39m                            Traceback (most recent call last)",
      "\u001b[36mCell\u001b[39m\u001b[36m \u001b[39m\u001b[32mIn[18]\u001b[39m\u001b[32m, line 12\u001b[39m\n\u001b[32m     10\u001b[39m user_input = \u001b[33m\"\u001b[39m\u001b[33mWhat do you know about LangGraph?\u001b[39m\u001b[33m\"\u001b[39m\n\u001b[32m     11\u001b[39m \u001b[38;5;28mprint\u001b[39m(\u001b[33m\"\u001b[39m\u001b[33mUser: \u001b[39m\u001b[33m\"\u001b[39m + user_input)\n\u001b[32m---> \u001b[39m\u001b[32m12\u001b[39m \u001b[43mstream_graph_updates\u001b[49m\u001b[43m(\u001b[49m\u001b[43muser_input\u001b[49m\u001b[43m)\u001b[49m\n\u001b[32m     13\u001b[39m \u001b[38;5;28;01mbreak\u001b[39;00m\n",
      "\u001b[36mCell\u001b[39m\u001b[36m \u001b[39m\u001b[32mIn[17]\u001b[39m\u001b[32m, line 8\u001b[39m, in \u001b[36mstream_graph_updates\u001b[39m\u001b[34m(user_input)\u001b[39m\n\u001b[32m      6\u001b[39m \u001b[38;5;28;01mdef\u001b[39;00m\u001b[38;5;250m \u001b[39m\u001b[34mstream_graph_updates\u001b[39m(user_input: \u001b[38;5;28mstr\u001b[39m):\n\u001b[32m      7\u001b[39m     \u001b[38;5;28;01mfor\u001b[39;00m event \u001b[38;5;129;01min\u001b[39;00m app.invoke({\u001b[33m\"\u001b[39m\u001b[33mmessage\u001b[39m\u001b[33m\"\u001b[39m: [HumanMessage(content=user_input)]}):\n\u001b[32m----> \u001b[39m\u001b[32m8\u001b[39m         \u001b[38;5;28;01mfor\u001b[39;00m value \u001b[38;5;129;01min\u001b[39;00m \u001b[43mevent\u001b[49m\u001b[43m.\u001b[49m\u001b[43mvalues\u001b[49m():\n\u001b[32m      9\u001b[39m             \u001b[38;5;28mprint\u001b[39m(\u001b[33m\"\u001b[39m\u001b[33mAssistant:\u001b[39m\u001b[33m\"\u001b[39m, value[\u001b[33m\"\u001b[39m\u001b[33mmessages\u001b[39m\u001b[33m\"\u001b[39m][-\u001b[32m1\u001b[39m].content)\n",
      "\u001b[31mAttributeError\u001b[39m: 'str' object has no attribute 'values'"
     ]
    }
   ],
   "source": [
    "\n",
    "while True:\n",
    "    try:\n",
    "        user_input = 'Hello, how are you?'\n",
    "        if user_input.lower() in [\"quit\", \"exit\", \"q\"]:\n",
    "            print(\"Goodbye!\")\n",
    "            break\n",
    "        stream_graph_updates(user_input)\n",
    "    except:\n",
    "        # fallback if input() is not available\n",
    "        user_input = \"What do you know about LangGraph?\"\n",
    "        print(\"User: \" + user_input)\n",
    "        stream_graph_updates(user_input)\n",
    "        break"
   ]
  },
  {
   "cell_type": "code",
   "execution_count": null,
   "id": "da5e4ab2",
   "metadata": {},
   "outputs": [],
   "source": []
  }
 ],
 "metadata": {
  "kernelspec": {
   "display_name": ".venv",
   "language": "python",
   "name": "python3"
  },
  "language_info": {
   "codemirror_mode": {
    "name": "ipython",
    "version": 3
   },
   "file_extension": ".py",
   "mimetype": "text/x-python",
   "name": "python",
   "nbconvert_exporter": "python",
   "pygments_lexer": "ipython3",
   "version": "3.13.0"
  }
 },
 "nbformat": 4,
 "nbformat_minor": 5
}
